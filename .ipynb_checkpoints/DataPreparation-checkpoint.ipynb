{
 "cells": [
  {
   "cell_type": "markdown",
   "id": "49b649f5",
   "metadata": {},
   "source": [
    "# Data Preparation #"
   ]
  },
  {
   "cell_type": "code",
   "execution_count": 1,
   "id": "a20c4459",
   "metadata": {},
   "outputs": [],
   "source": [
    "import numpy as np\n",
    "import pandas as pd"
   ]
  },
  {
   "cell_type": "code",
   "execution_count": 2,
   "id": "049bdb83",
   "metadata": {},
   "outputs": [],
   "source": [
    "class Process_Data:\n",
    "    def __init__(self):\n",
    "        self.main = pd.read_csv(\"DataSheets/sets.csv\")\n",
    "        self.rebrickable = pd.read_csv(\"DataSheets/rebrickable_sets.csv\")\n",
    "    def add_modified_dataframe(self):\n",
    "        self.modified = replace_piece_counts()"
   ]
  },
  {
   "cell_type": "code",
   "execution_count": 3,
   "id": "5a3dba30",
   "metadata": {},
   "outputs": [],
   "source": [
    "data = Process_Data()\n",
    "main = data.main\n",
    "rebrickable = data.rebrickable"
   ]
  },
  {
   "cell_type": "markdown",
   "id": "a86697ed",
   "metadata": {},
   "source": [
    "### Remove zeroes from the set_num value in rebrickable dataframe ###"
   ]
  },
  {
   "cell_type": "code",
   "execution_count": 4,
   "id": "4637c0e8",
   "metadata": {},
   "outputs": [],
   "source": [
    "for i in range(rebrickable.shape[0]):\n",
    "    ID = rebrickable.at[i, 'set_num']\n",
    "    \n",
    "    zero_count = 0\n",
    "    for c in list(ID):\n",
    "        if c == \"0\":\n",
    "            zero_count += 1\n",
    "        else:\n",
    "            break\n",
    "            \n",
    "    rebrickable.at[i, 'set_num'] = ID[zero_count:]"
   ]
  },
  {
   "cell_type": "markdown",
   "id": "92d0c6f7",
   "metadata": {},
   "source": [
    "### Add piece counts to main dataframe from rebrickable dataframe ###"
   ]
  },
  {
   "cell_type": "code",
   "execution_count": 5,
   "id": "4f7f095a",
   "metadata": {
    "scrolled": true
   },
   "outputs": [],
   "source": [
    "def replace_piece_counts():\n",
    "    new = main.copy(deep=True)\n",
    "    count_changed = 0\n",
    "    for i in range(new.shape[0]):\n",
    "        set_id = new.at[i, 'Set_ID']\n",
    "        if set_id in rebrickable.set_num.unique():\n",
    "            new_pieces = rebrickable[rebrickable['set_num'] == new.at[i, 'Set_ID']].num_parts.values[0]\n",
    "            new.at[i, 'Pieces'] = new_pieces\n",
    "            count_changed += 1\n",
    "    print(count_changed)\n",
    "    return new"
   ]
  }
 ],
 "metadata": {
  "kernelspec": {
   "display_name": "Python 3 (ipykernel)",
   "language": "python",
   "name": "python3"
  },
  "language_info": {
   "codemirror_mode": {
    "name": "ipython",
    "version": 3
   },
   "file_extension": ".py",
   "mimetype": "text/x-python",
   "name": "python",
   "nbconvert_exporter": "python",
   "pygments_lexer": "ipython3",
   "version": "3.11.5"
  }
 },
 "nbformat": 4,
 "nbformat_minor": 5
}
